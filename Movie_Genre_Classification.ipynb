{
  "nbformat": 4,
  "nbformat_minor": 0,
  "metadata": {
    "colab": {
      "provenance": []
    },
    "kernelspec": {
      "name": "python3",
      "display_name": "Python 3"
    },
    "language_info": {
      "name": "python"
    }
  },
  "cells": [
    {
      "cell_type": "code",
      "source": [
        "import pandas as pd\n",
        "import matplotlib.pyplot as plt\n",
        "import seaborn as sns\n",
        "from sklearn.feature_extraction.text import TfidfVectorizer\n",
        "from sklearn.model_selection import train_test_split\n",
        "from sklearn.naive_bayes import MultinomialNB\n",
        "from sklearn.metrics import accuracy_score, classification_report\n",
        "from sklearn.preprocessing import LabelEncoder\n",
        "\n",
        "# ✅ Load the training and test data\n",
        "train_data = pd.read_csv(\"train_data.txt\", sep=':::', names=['Title', 'Genre', 'Description'], engine='python')\n",
        "test_data = pd.read_csv(\"test_data.txt\", sep=':::', names=['Title', 'Description'], engine='python')\n",
        "test_solution = pd.read_csv(\"test_data_solution.txt\", sep=':::', names=['Title', 'Genre'], engine='python')\n",
        "\n",
        "# ✅ Encode genre labels\n",
        "label_encoder = LabelEncoder()\n",
        "# Handle NaN values in 'Genre' columns before fitting the LabelEncoder\n",
        "# Replace NaN values with a placeholder string (e.g., 'unknown')\n",
        "train_data[\"Genre\"] = train_data[\"Genre\"].astype(str).fillna('unknown')\n",
        "test_solution[\"Genre\"] = test_solution[\"Genre\"].astype(str).fillna('unknown')\n",
        "\n",
        "# ✅ Fit LabelEncoder on all genres from train and test solutions\n",
        "all_genres = pd.concat([train_data[\"Genre\"], test_solution[\"Genre\"]]).unique()\n",
        "label_encoder.fit(all_genres)\n",
        "\n",
        "train_data[\"Genre\"] = label_encoder.transform(train_data[\"Genre\"])\n",
        "test_solution[\"Genre\"] = label_encoder.transform(test_solution[\"Genre\"])\n",
        "\n",
        "# ✅ Split training data for validation\n",
        "X_train, X_test, y_train, y_test = train_test_split(train_data[\"Description\"], train_data[\"Genre\"], test_size=0.2, random_state=42)\n",
        "\n",
        "# ✅ TF-IDF Vectorization (fit only on training data)\n",
        "tfidf = TfidfVectorizer(stop_words=\"english\", max_features=5000)\n",
        "\n",
        "# Fit the TF-IDF vectorizer on the training data only\n",
        "tfidf.fit(X_train)\n",
        "\n",
        "# Transform the training and testing data\n",
        "X_train_tfidf = tfidf.transform(X_train)\n",
        "X_test_tfidf = tfidf.transform(X_test)\n",
        "X_final_test_tfidf = tfidf.transform(test_data[\"Description\"])  # Test data transformation\n",
        "\n",
        "\n",
        "# ✅ Train Naïve Bayes Model\n",
        "model = MultinomialNB()\n",
        "model.fit(X_train_tfidf, y_train)\n",
        "\n",
        "# ✅ Validate Model on Split Test Data\n",
        "y_pred = model.predict(X_test_tfidf)\n",
        "print(\"Validation Accuracy:\", accuracy_score(y_test, y_pred))\n",
        "print(\"Classification Report:\\n\", classification_report(y_test, y_pred))\n",
        "\n",
        "# ✅ Predict on Full Test Data (`test_data.txt`)\n",
        "y_final_pred = model.predict(X_final_test_tfidf)\n",
        "test_data[\"Predicted_Genre\"] = label_encoder.inverse_transform(y_final_pred)\n",
        "\n",
        "# ✅ Save predictions to file\n",
        "test_data.to_csv(\"predicted_genres.csv\", index=False)\n",
        "print(\"Predictions saved to predicted_genres.csv\")\n",
        "\n",
        "# ✅ Evaluate on actual test solutions (`test_data_solution.txt`)\n",
        "merged_df = test_data.merge(test_solution, on=\"Title\", how=\"left\", suffixes=(\"_Predicted\", \"\"))\n",
        "\n",
        "# Instead of using inverse_transform directly on potentially unseen labels,\n",
        "# we transform the 'Predicted_Genre' to numerical labels using the same label_encoder\n",
        "# and then calculate the accuracy_score with 'Genre_Actual' which already contains numerical labels.\n",
        "merged_df['Predicted_Genre_Numeric'] = label_encoder.transform(merged_df[\"Predicted_Genre\"])\n",
        "\n",
        "#  ✅ Drop rows with NaN values in 'Genre' before calculating accuracy\n",
        "merged_df = merged_df.dropna(subset=['Genre'])\n",
        "\n",
        "# Calculate accuracy using the numerical labels\n",
        "accuracy_on_test = accuracy_score(merged_df[\"Genre\"], merged_df['Predicted_Genre_Numeric'])\n",
        "print(f\"Accuracy on test_data.txt: {accuracy_on_test:.2%}\")"
      ],
      "metadata": {
        "colab": {
          "base_uri": "https://localhost:8080/"
        },
        "id": "LkIfX7WVjJn_",
        "outputId": "40206d51-ae34-4607-fb21-c215426b9b84"
      },
      "execution_count": null,
      "outputs": [
        {
          "output_type": "stream",
          "name": "stdout",
          "text": [
            "Validation Accuracy: 0.5231946878170248\n",
            "Classification Report:\n",
            "               precision    recall  f1-score   support\n",
            "\n",
            "       53979       0.58      0.08      0.14       263\n",
            "       53980       0.88      0.06      0.12       112\n",
            "       53981       0.29      0.03      0.05       139\n",
            "       53988       0.00      0.00      0.00       104\n",
            "       53991       0.00      0.00      0.00        61\n",
            "       53993       0.51      0.44      0.47      1443\n",
            "       53994       0.00      0.00      0.00       107\n",
            "       53997       0.58      0.88      0.70      2659\n",
            "       53999       0.46      0.83      0.59      2697\n",
            "       54002       1.00      0.01      0.01       150\n",
            "       54004       0.00      0.00      0.00        74\n",
            "       54010       1.00      0.15      0.26        40\n",
            "       54019       0.00      0.00      0.00        45\n",
            "       54020       0.73      0.36      0.48       431\n",
            "       54033       0.77      0.12      0.20       144\n",
            "       54034       0.00      0.00      0.00        50\n",
            "       54037       0.00      0.00      0.00        56\n",
            "       54044       0.00      0.00      0.00        34\n",
            "       54050       0.80      0.02      0.04       192\n",
            "       54051       0.00      0.00      0.00       151\n",
            "       54055       0.86      0.04      0.08       143\n",
            "       54056       0.60      0.10      0.18      1045\n",
            "       54059       0.73      0.09      0.15        93\n",
            "       54060       0.00      0.00      0.00        81\n",
            "       54072       0.23      0.01      0.02       309\n",
            "       54076       0.00      0.00      0.00        20\n",
            "       54077       0.98      0.59      0.74       200\n",
            "\n",
            "    accuracy                           0.52     10843\n",
            "   macro avg       0.41      0.14      0.16     10843\n",
            "weighted avg       0.52      0.52      0.44     10843\n",
            "\n"
          ]
        },
        {
          "output_type": "stream",
          "name": "stderr",
          "text": [
            "/usr/local/lib/python3.11/dist-packages/sklearn/metrics/_classification.py:1565: UndefinedMetricWarning: Precision is ill-defined and being set to 0.0 in labels with no predicted samples. Use `zero_division` parameter to control this behavior.\n",
            "  _warn_prf(average, modifier, f\"{metric.capitalize()} is\", len(result))\n",
            "/usr/local/lib/python3.11/dist-packages/sklearn/metrics/_classification.py:1565: UndefinedMetricWarning: Precision is ill-defined and being set to 0.0 in labels with no predicted samples. Use `zero_division` parameter to control this behavior.\n",
            "  _warn_prf(average, modifier, f\"{metric.capitalize()} is\", len(result))\n",
            "/usr/local/lib/python3.11/dist-packages/sklearn/metrics/_classification.py:1565: UndefinedMetricWarning: Precision is ill-defined and being set to 0.0 in labels with no predicted samples. Use `zero_division` parameter to control this behavior.\n",
            "  _warn_prf(average, modifier, f\"{metric.capitalize()} is\", len(result))\n"
          ]
        },
        {
          "output_type": "stream",
          "name": "stdout",
          "text": [
            "Predictions saved to predicted_genres.csv\n",
            "Accuracy on test_data.txt: nan%\n"
          ]
        },
        {
          "output_type": "stream",
          "name": "stderr",
          "text": [
            "/usr/local/lib/python3.11/dist-packages/numpy/lib/function_base.py:520: RuntimeWarning: Mean of empty slice.\n",
            "  avg = a.mean(axis, **keepdims_kw)\n",
            "/usr/local/lib/python3.11/dist-packages/numpy/core/_methods.py:129: RuntimeWarning: invalid value encountered in scalar divide\n",
            "  ret = ret.dtype.type(ret / rcount)\n"
          ]
        }
      ]
    },
    {
      "cell_type": "code",
      "source": [
        "def predict_genre(movie_description):\n",
        "    # ✅ Convert the description into TF-IDF format\n",
        "    movie_tfidf = tfidf.transform([movie_description])\n",
        "\n",
        "    # ✅ Predict genre\n",
        "    predicted_label = model.predict(movie_tfidf)[0]\n",
        "\n",
        "    # ✅ Convert the numeric label back to the genre name\n",
        "    predicted_genre = label_encoder.inverse_transform([predicted_label])[0]\n",
        "\n",
        "    return predicted_genre\n",
        "\n",
        "# Example Usage:\n",
        "movie_description = \"A team of explorers travel through a wormhole in space in an attempt to ensure humanity's survival.\"\n",
        "predicted_genre = predict_genre(movie_description)\n",
        "print(f\"Predicted Genre: {predicted_genre}\")\n"
      ],
      "metadata": {
        "colab": {
          "base_uri": "https://localhost:8080/"
        },
        "id": "gpVqqydGkrJu",
        "outputId": "622a94c0-5764-47f0-a1f6-9edfb9c489c9"
      },
      "execution_count": null,
      "outputs": [
        {
          "output_type": "stream",
          "name": "stdout",
          "text": [
            "Predicted Genre:  documentary \n"
          ]
        }
      ]
    }
  ]
}